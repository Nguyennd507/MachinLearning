{
  "nbformat": 4,
  "nbformat_minor": 0,
  "metadata": {
    "colab": {
      "name": "Copy of trainSoftmax.ipynb",
      "provenance": [],
      "include_colab_link": true
    },
    "kernelspec": {
      "name": "python3",
      "display_name": "Python 3"
    },
    "accelerator": "GPU"
  },
  "cells": [
    {
      "cell_type": "markdown",
      "metadata": {
        "id": "view-in-github",
        "colab_type": "text"
      },
      "source": [
        "<a href=\"https://colab.research.google.com/github/Nguyennd507/MachineLearning/blob/master/Fine_Tuning.ipynb\" target=\"_parent\"><img src=\"https://colab.research.google.com/assets/colab-badge.svg\" alt=\"Open In Colab\"/></a>"
      ]
    },
    {
      "cell_type": "code",
      "metadata": {
        "id": "mhKs-3EMUydu",
        "colab_type": "code",
        "colab": {
          "base_uri": "https://localhost:8080/",
          "height": 121
        },
        "outputId": "fc89e46f-ce7d-47df-cf51-55d9bf3579b6"
      },
      "source": [
        "from google.colab import drive\n",
        "drive.mount('/content/drive')"
      ],
      "execution_count": null,
      "outputs": [
        {
          "output_type": "stream",
          "text": [
            "Go to this URL in a browser: https://accounts.google.com/o/oauth2/auth?client_id=947318989803-6bn6qk8qdgf4n4g3pfee6491hc0brc4i.apps.googleusercontent.com&redirect_uri=urn%3aietf%3awg%3aoauth%3a2.0%3aoob&response_type=code&scope=email%20https%3a%2f%2fwww.googleapis.com%2fauth%2fdocs.test%20https%3a%2f%2fwww.googleapis.com%2fauth%2fdrive%20https%3a%2f%2fwww.googleapis.com%2fauth%2fdrive.photos.readonly%20https%3a%2f%2fwww.googleapis.com%2fauth%2fpeopleapi.readonly\n",
            "\n",
            "Enter your authorization code:\n",
            "··········\n",
            "Mounted at /content/drive\n"
          ],
          "name": "stdout"
        }
      ]
    },
    {
      "cell_type": "code",
      "metadata": {
        "id": "0Cm-QS4UVb-M",
        "colab_type": "code",
        "colab": {}
      },
      "source": [
        "!unzip /content/drive/'My Drive'/Data/flowers-recognition.zip\n",
        "# !ln -s /content/drive/'My Drive'/ML/backup /content"
      ],
      "execution_count": null,
      "outputs": []
    },
    {
      "cell_type": "code",
      "metadata": {
        "id": "1PkdyZ5jVmbP",
        "colab_type": "code",
        "colab": {}
      },
      "source": [
        "# Thêm thư viện\n",
        "from sklearn.linear_model import LogisticRegression\n",
        "from sklearn.model_selection import GridSearchCV\n",
        "from sklearn.metrics import classification_report,confusion_matrix\n",
        "from imutils import paths\n",
        "from keras.applications import VGG16\n",
        "from keras.applications import imagenet_utils\n",
        "from keras.preprocessing.image import img_to_array\n",
        "from keras.preprocessing.image import load_img\n",
        "from sklearn.preprocessing import LabelBinarizer\n",
        "from keras import models\n",
        "from keras import layers\n",
        "from keras import optimizers\n",
        "from keras.optimizers import RMSprop, Adam\n",
        "from keras.preprocessing.image import ImageDataGenerator\n",
        "from sklearn.preprocessing import LabelEncoder\n",
        "from sklearn.model_selection import train_test_split\n",
        "import numpy as np\n",
        "import random\n",
        "import os\n",
        "import pandas as pd\n",
        "import matplotlib.pyplot as plt\n",
        "from sklearn.svm import SVC\n",
        "from sklearn.externals import joblib\n",
        "import cv2\n",
        "from pathlib import Path\n",
        "import seaborn as sns\n",
        "sns.set_style('darkgrid')"
      ],
      "execution_count": null,
      "outputs": []
    },
    {
      "cell_type": "code",
      "metadata": {
        "id": "4XzBTAQV0xwy",
        "colab_type": "code",
        "colab": {
          "base_uri": "https://localhost:8080/",
          "height": 195
        },
        "outputId": "c9fe2508-69ba-44ba-cc03-ccea57aff933"
      },
      "source": [
        "flowers_path=Path('/content/flowers/flowers')\n",
        "flower_types = os.listdir(flowers_path)\n",
        "flowers = []\n",
        "for species in flower_types:\n",
        "    all_flowers = os.listdir(flowers_path / species)\n",
        "    for flower in all_flowers:\n",
        "        flowers.append((species, str(flowers_path /species) + '/' + flower))\n",
        "     \n",
        "flowers = pd.DataFrame(data=flowers, columns=['category', 'image'], index=None)\n",
        "flowers.head()"
      ],
      "execution_count": null,
      "outputs": [
        {
          "output_type": "execute_result",
          "data": {
            "text/html": [
              "<div>\n",
              "<style scoped>\n",
              "    .dataframe tbody tr th:only-of-type {\n",
              "        vertical-align: middle;\n",
              "    }\n",
              "\n",
              "    .dataframe tbody tr th {\n",
              "        vertical-align: top;\n",
              "    }\n",
              "\n",
              "    .dataframe thead th {\n",
              "        text-align: right;\n",
              "    }\n",
              "</style>\n",
              "<table border=\"1\" class=\"dataframe\">\n",
              "  <thead>\n",
              "    <tr style=\"text-align: right;\">\n",
              "      <th></th>\n",
              "      <th>category</th>\n",
              "      <th>image</th>\n",
              "    </tr>\n",
              "  </thead>\n",
              "  <tbody>\n",
              "    <tr>\n",
              "      <th>0</th>\n",
              "      <td>tulip</td>\n",
              "      <td>/content/flowers/flowers/tulip/17282288501_e87...</td>\n",
              "    </tr>\n",
              "    <tr>\n",
              "      <th>1</th>\n",
              "      <td>tulip</td>\n",
              "      <td>/content/flowers/flowers/tulip/7166546934_c97b...</td>\n",
              "    </tr>\n",
              "    <tr>\n",
              "      <th>2</th>\n",
              "      <td>tulip</td>\n",
              "      <td>/content/flowers/flowers/tulip/8713388322_e5ae...</td>\n",
              "    </tr>\n",
              "    <tr>\n",
              "      <th>3</th>\n",
              "      <td>tulip</td>\n",
              "      <td>/content/flowers/flowers/tulip/8619064872_dea7...</td>\n",
              "    </tr>\n",
              "    <tr>\n",
              "      <th>4</th>\n",
              "      <td>tulip</td>\n",
              "      <td>/content/flowers/flowers/tulip/3282751630_45c2...</td>\n",
              "    </tr>\n",
              "  </tbody>\n",
              "</table>\n",
              "</div>"
            ],
            "text/plain": [
              "  category                                              image\n",
              "0    tulip  /content/flowers/flowers/tulip/17282288501_e87...\n",
              "1    tulip  /content/flowers/flowers/tulip/7166546934_c97b...\n",
              "2    tulip  /content/flowers/flowers/tulip/8713388322_e5ae...\n",
              "3    tulip  /content/flowers/flowers/tulip/8619064872_dea7...\n",
              "4    tulip  /content/flowers/flowers/tulip/3282751630_45c2..."
            ]
          },
          "metadata": {
            "tags": []
          },
          "execution_count": 15
        }
      ]
    },
    {
      "cell_type": "code",
      "metadata": {
        "id": "mVW5cHwL1TQF",
        "colab_type": "code",
        "colab": {
          "base_uri": "https://localhost:8080/",
          "height": 394
        },
        "outputId": "5ca3c788-c03a-4e65-a255-0712e5cfac1a"
      },
      "source": [
        "fl_count = flowers['category'].value_counts()\n",
        "f, axe = plt.subplots(1,1,figsize=(14,6))\n",
        "sns.barplot(x = fl_count.index, y = fl_count.values, ax = axe)\n",
        "axe.set_title(\"Số lượng hoa mỗi class\", fontsize=16)\n",
        "#axe.set_xlabel('class', fontsize=14)\n",
        "#axe.set_ylabel('số lượng', fontsize=14)\n",
        "plt.show()"
      ],
      "execution_count": null,
      "outputs": [
        {
          "output_type": "display_data",
          "data": {
            "image/png": "[encoded data removed]",
            "text/plain": [
              "<Figure size 1008x432 with 1 Axes>"
            ]
          },
          "metadata": {
            "tags": []
          }
        }
      ]
    },
    {
      "cell_type": "code",
      "metadata": {
        "id": "ToIMir_5VpTL",
        "colab_type": "code",
        "colab": {}
      },
      "source": [
        "# Lấy các đường dẫn đến ảnh.\n",
        "image_path = list(paths.list_images('/content/flowers/flowers'))\n",
        "\n",
        "# Đổi vị trí ngẫu nhiên các đường dẫn ảnh\n",
        "random.shuffle(image_path)"
      ],
      "execution_count": null,
      "outputs": []
    },
    {
      "cell_type": "code",
      "metadata": {
        "id": "M74-zSKvVssk",
        "colab_type": "code",
        "colab": {}
      },
      "source": [
        "# Đường dẫn ảnh sẽ là dataset/tên_loài_hoa/tên_ảnh ví dụ dataset/Bluebell/image_0241.jpg nên p.split(os.path.sep)[-2] sẽ lấy ra được tên loài hoa\n",
        "labels = [p.split(os.path.sep)[-2] for p in image_path]\n",
        "\n",
        "# Chuyển tên các loài hoa thành số\n",
        "# le = LabelEncoder()\n",
        "# labels = le.fit_transform(labels)\n",
        "\n",
        "lb = LabelBinarizer()\n",
        "labels = lb.fit_transform(labels)"
      ],
      "execution_count": null,
      "outputs": []
    },
    {
      "cell_type": "code",
      "metadata": {
        "id": "xuXXCl5NVxkj",
        "colab_type": "code",
        "colab": {}
      },
      "source": [
        "# Load model VGG 16 của ImageNet dataset, include_top=False để bỏ phần Fully connected layer ở cuối.\n",
        "model = VGG16(weights='imagenet', include_top=False)"
      ],
      "execution_count": null,
      "outputs": []
    },
    {
      "cell_type": "code",
      "metadata": {
        "id": "knYHic3LV4Ac",
        "colab_type": "code",
        "colab": {}
      },
      "source": [
        "# Load ảnh và resize về đúng kích thước mà VGG 16 cần là (224,224)\n",
        "list_image = []\n",
        "for (j, imagePath) in enumerate(image_path):\n",
        "    image = load_img(imagePath, target_size=(224, 224))\n",
        "    image = img_to_array(image)\n",
        "    \n",
        "    image = np.expand_dims(image, 0)\n",
        "    image = imagenet_utils.preprocess_input(image)\n",
        "    \n",
        "    list_image.append(image)\n",
        "    \n",
        "list_image = np.vstack(list_image)"
      ],
      "execution_count": null,
      "outputs": []
    },
    {
      "cell_type": "code",
      "metadata": {
        "id": "mY52EewVaEH5",
        "colab_type": "code",
        "colab": {
          "base_uri": "https://localhost:8080/",
          "height": 386
        },
        "outputId": "d04a1b9f-2a03-42a0-98cc-ac41e0f03ce7"
      },
      "source": [
        "from keras.backend import clear_session\n",
        "clear_session()\n",
        "\n",
        "# Load model VGG 16 của ImageNet dataset, include_top=False để bỏ phần Fully connected layer ở cuối.\n",
        "conv_base  = VGG16(weights='imagenet', include_top=False, input_shape=(224, 224, 3))\n",
        "model = models.Sequential()\n",
        "model.add(conv_base)\n",
        "model.add(layers.Flatten())\n",
        "model.add(layers.Dense(512, activation='relu'))\n",
        "model.add(layers.Dropout(0.5))\n",
        "model.add(layers.Dense(128, activation='relu'))\n",
        "model.add(layers.Dropout(0.3))\n",
        "model.add(layers.Dense(5, activation='softmax'))\n",
        "model.summary()"
      ],
      "execution_count": null,
      "outputs": [
        {
          "output_type": "stream",
          "text": [
            "Model: \"sequential_1\"\n",
            "_________________________________________________________________\n",
            "Layer (type)                 Output Shape              Param #   \n",
            "=================================================================\n",
            "vgg16 (Model)                (None, 7, 7, 512)         14714688  \n",
            "_________________________________________________________________\n",
            "flatten_1 (Flatten)          (None, 25088)             0         \n",
            "_________________________________________________________________\n",
            "dense_1 (Dense)              (None, 512)               12845568  \n",
            "_________________________________________________________________\n",
            "dropout_1 (Dropout)          (None, 512)               0         \n",
            "_________________________________________________________________\n",
            "dense_2 (Dense)              (None, 128)               65664     \n",
            "_________________________________________________________________\n",
            "dropout_2 (Dropout)          (None, 128)               0         \n",
            "_________________________________________________________________\n",
            "dense_3 (Dense)              (None, 5)                 645       \n",
            "=================================================================\n",
            "Total params: 27,626,565\n",
            "Trainable params: 27,626,565\n",
            "Non-trainable params: 0\n",
            "_________________________________________________________________\n"
          ],
          "name": "stdout"
        }
      ]
    },
    {
      "cell_type": "code",
      "metadata": {
        "id": "nolo9Nsn4TFI",
        "colab_type": "code",
        "colab": {}
      },
      "source": [
        "# Chia traing set, test set tỉ lệ 80-20\n",
        "X_train, X_test, y_train, y_test = train_test_split(list_image, labels, test_size=0.2, random_state=42)"
      ],
      "execution_count": null,
      "outputs": []
    },
    {
      "cell_type": "code",
      "metadata": {
        "id": "MP1poEfq4mgp",
        "colab_type": "code",
        "colab": {}
      },
      "source": [
        "# augmentation cho training data\n",
        "aug_train = ImageDataGenerator(rescale=1./255, rotation_range=40, width_shift_range=0.2, height_shift_range=0.2, shear_range=0.2, \n",
        "                         zoom_range=0.2, horizontal_flip=True)\n",
        "# augementation cho test\n",
        "aug_test= ImageDataGenerator(rescale=1./255)"
      ],
      "execution_count": null,
      "outputs": []
    },
    {
      "cell_type": "code",
      "metadata": {
        "id": "2pRS_oF44pmo",
        "colab_type": "code",
        "colab": {
          "base_uri": "https://localhost:8080/",
          "height": 1000
        },
        "outputId": "878b71bc-aac3-43e9-925e-fa938fe37394"
      },
      "source": [
        "# freeze VGG model\n",
        "for layer in conv_base.layers:\n",
        "    layer.trainable = False\n",
        "    \n",
        "opt = Adam(2e-5)\n",
        "model.compile(opt, 'categorical_crossentropy', ['accuracy'])\n",
        "numOfEpoch = 20\n",
        "H = model.fit_generator(aug_train.flow(X_train, y_train, batch_size=32), \n",
        "                        steps_per_epoch=len(X_train)//32,\n",
        "                        validation_data=(aug_test.flow(X_test, y_test, batch_size=32)),\n",
        "                        validation_steps=len(X_test)//32,\n",
        "                        epochs=numOfEpoch)\n",
        "\n",
        "#unfreeze some last CNN layer:\n",
        "for layer in conv_base.layers[15:]:\n",
        "    layer.trainable = True\n",
        "\n",
        "numOfEpoch = 25\n",
        "opt = Adam(2e-5)\n",
        "model.compile(opt, 'categorical_crossentropy', ['accuracy'])\n",
        "H1 = model.fit_generator(aug_train.flow(X_train, y_train, batch_size=32), \n",
        "                        steps_per_epoch=len(X_train)//32,\n",
        "                        validation_data=(aug_test.flow(X_test, y_test, batch_size=32)),\n",
        "                        validation_steps=len(X_test)//32,\n",
        "                        epochs=numOfEpoch)"
      ],
      "execution_count": null,
      "outputs": [
        {
          "output_type": "stream",
          "text": [
            "Epoch 1/20\n",
            "108/108 [==============================] - 64s 595ms/step - loss: 1.5179 - accuracy: 0.3579 - val_loss: 0.9611 - val_accuracy: 0.6169\n",
            "Epoch 2/20\n",
            "108/108 [==============================] - 58s 540ms/step - loss: 1.1583 - accuracy: 0.5309 - val_loss: 0.8376 - val_accuracy: 0.6915\n",
            "Epoch 3/20\n",
            "108/108 [==============================] - 57s 531ms/step - loss: 0.9872 - accuracy: 0.6211 - val_loss: 0.8323 - val_accuracy: 0.7335\n",
            "Epoch 4/20\n",
            "108/108 [==============================] - 57s 530ms/step - loss: 0.8883 - accuracy: 0.6719 - val_loss: 0.5610 - val_accuracy: 0.7539\n",
            "Epoch 5/20\n",
            "108/108 [==============================] - 57s 527ms/step - loss: 0.8345 - accuracy: 0.6824 - val_loss: 0.6501 - val_accuracy: 0.7539\n",
            "Epoch 6/20\n",
            "108/108 [==============================] - 57s 524ms/step - loss: 0.7961 - accuracy: 0.6999 - val_loss: 0.3738 - val_accuracy: 0.7659\n",
            "Epoch 7/20\n",
            "108/108 [==============================] - 57s 525ms/step - loss: 0.7295 - accuracy: 0.7309 - val_loss: 0.7386 - val_accuracy: 0.7827\n",
            "Epoch 8/20\n",
            "108/108 [==============================] - 56s 523ms/step - loss: 0.7053 - accuracy: 0.7329 - val_loss: 0.6718 - val_accuracy: 0.7767\n",
            "Epoch 9/20\n",
            "108/108 [==============================] - 56s 521ms/step - loss: 0.6932 - accuracy: 0.7426 - val_loss: 0.5722 - val_accuracy: 0.7815\n",
            "Epoch 10/20\n",
            "108/108 [==============================] - 56s 522ms/step - loss: 0.6705 - accuracy: 0.7545 - val_loss: 0.5315 - val_accuracy: 0.7815\n",
            "Epoch 11/20\n",
            "108/108 [==============================] - 56s 518ms/step - loss: 0.6556 - accuracy: 0.7609 - val_loss: 0.8997 - val_accuracy: 0.7959\n",
            "Epoch 12/20\n",
            "108/108 [==============================] - 56s 521ms/step - loss: 0.6159 - accuracy: 0.7679 - val_loss: 0.4179 - val_accuracy: 0.8175\n",
            "Epoch 13/20\n",
            "108/108 [==============================] - 56s 516ms/step - loss: 0.6459 - accuracy: 0.7603 - val_loss: 0.4862 - val_accuracy: 0.7791\n",
            "Epoch 14/20\n",
            "108/108 [==============================] - 56s 516ms/step - loss: 0.5950 - accuracy: 0.7887 - val_loss: 0.4303 - val_accuracy: 0.7911\n",
            "Epoch 15/20\n",
            "108/108 [==============================] - 56s 515ms/step - loss: 0.5978 - accuracy: 0.7764 - val_loss: 0.7173 - val_accuracy: 0.8031\n",
            "Epoch 16/20\n",
            "108/108 [==============================] - 55s 514ms/step - loss: 0.5789 - accuracy: 0.7866 - val_loss: 0.5191 - val_accuracy: 0.8103\n",
            "Epoch 17/20\n",
            "108/108 [==============================] - 55s 511ms/step - loss: 0.5801 - accuracy: 0.7866 - val_loss: 0.7295 - val_accuracy: 0.8055\n",
            "Epoch 18/20\n",
            "108/108 [==============================] - 56s 517ms/step - loss: 0.5569 - accuracy: 0.7922 - val_loss: 0.3268 - val_accuracy: 0.7971\n",
            "Epoch 19/20\n",
            "108/108 [==============================] - 55s 509ms/step - loss: 0.5577 - accuracy: 0.7898 - val_loss: 0.3541 - val_accuracy: 0.7995\n",
            "Epoch 20/20\n",
            "108/108 [==============================] - 55s 511ms/step - loss: 0.5409 - accuracy: 0.7980 - val_loss: 0.6589 - val_accuracy: 0.7959\n",
            "Epoch 1/25\n",
            "108/108 [==============================] - 61s 565ms/step - loss: 0.5187 - accuracy: 0.8170 - val_loss: 0.2255 - val_accuracy: 0.8461\n",
            "Epoch 2/25\n",
            "108/108 [==============================] - 60s 554ms/step - loss: 0.4021 - accuracy: 0.8508 - val_loss: 0.2470 - val_accuracy: 0.8439\n",
            "Epoch 3/25\n",
            "108/108 [==============================] - 60s 555ms/step - loss: 0.4097 - accuracy: 0.8579 - val_loss: 0.3694 - val_accuracy: 0.8583\n",
            "Epoch 4/25\n",
            "108/108 [==============================] - 60s 552ms/step - loss: 0.3433 - accuracy: 0.8719 - val_loss: 0.2963 - val_accuracy: 0.8812\n",
            "Epoch 5/25\n",
            "108/108 [==============================] - 60s 552ms/step - loss: 0.3128 - accuracy: 0.8853 - val_loss: 0.2267 - val_accuracy: 0.8932\n",
            "Epoch 6/25\n",
            "108/108 [==============================] - 59s 551ms/step - loss: 0.2846 - accuracy: 0.8967 - val_loss: 0.1799 - val_accuracy: 0.8776\n",
            "Epoch 7/25\n",
            "108/108 [==============================] - 59s 550ms/step - loss: 0.2741 - accuracy: 0.9063 - val_loss: 0.1258 - val_accuracy: 0.8920\n",
            "Epoch 8/25\n",
            "108/108 [==============================] - 59s 547ms/step - loss: 0.2506 - accuracy: 0.9092 - val_loss: 0.1968 - val_accuracy: 0.8776\n",
            "Epoch 9/25\n",
            "108/108 [==============================] - 59s 549ms/step - loss: 0.2386 - accuracy: 0.9145 - val_loss: 0.2414 - val_accuracy: 0.8908\n",
            "Epoch 10/25\n",
            "108/108 [==============================] - 59s 550ms/step - loss: 0.1987 - accuracy: 0.9242 - val_loss: 0.2654 - val_accuracy: 0.8848\n",
            "Epoch 11/25\n",
            "108/108 [==============================] - 59s 544ms/step - loss: 0.2122 - accuracy: 0.9282 - val_loss: 0.1988 - val_accuracy: 0.8884\n",
            "Epoch 12/25\n",
            "108/108 [==============================] - 59s 545ms/step - loss: 0.1802 - accuracy: 0.9288 - val_loss: 0.2345 - val_accuracy: 0.9124\n",
            "Epoch 13/25\n",
            "108/108 [==============================] - 59s 544ms/step - loss: 0.1690 - accuracy: 0.9410 - val_loss: 0.2427 - val_accuracy: 0.9004\n",
            "Epoch 14/25\n",
            "108/108 [==============================] - 58s 536ms/step - loss: 0.1524 - accuracy: 0.9455 - val_loss: 0.3419 - val_accuracy: 0.8896\n",
            "Epoch 15/25\n",
            "108/108 [==============================] - 58s 534ms/step - loss: 0.1558 - accuracy: 0.9495 - val_loss: 0.3435 - val_accuracy: 0.8896\n",
            "Epoch 16/25\n",
            "108/108 [==============================] - 58s 533ms/step - loss: 0.1816 - accuracy: 0.9425 - val_loss: 0.5462 - val_accuracy: 0.8319\n",
            "Epoch 17/25\n",
            "108/108 [==============================] - 58s 534ms/step - loss: 0.1506 - accuracy: 0.9454 - val_loss: 0.1821 - val_accuracy: 0.9148\n",
            "Epoch 18/25\n",
            "108/108 [==============================] - 57s 530ms/step - loss: 0.1174 - accuracy: 0.9600 - val_loss: 0.2828 - val_accuracy: 0.9076\n",
            "Epoch 19/25\n",
            "108/108 [==============================] - 57s 530ms/step - loss: 0.1154 - accuracy: 0.9562 - val_loss: 0.3860 - val_accuracy: 0.8932\n",
            "Epoch 20/25\n",
            "108/108 [==============================] - 58s 534ms/step - loss: 0.1045 - accuracy: 0.9644 - val_loss: 0.4163 - val_accuracy: 0.8884\n",
            "Epoch 21/25\n",
            "108/108 [==============================] - 57s 525ms/step - loss: 0.1062 - accuracy: 0.9644 - val_loss: 0.2162 - val_accuracy: 0.9040\n",
            "Epoch 22/25\n",
            "108/108 [==============================] - 57s 527ms/step - loss: 0.1132 - accuracy: 0.9571 - val_loss: 0.6903 - val_accuracy: 0.9004\n",
            "Epoch 23/25\n",
            "108/108 [==============================] - 57s 526ms/step - loss: 0.0881 - accuracy: 0.9714 - val_loss: 0.0919 - val_accuracy: 0.9076\n",
            "Epoch 24/25\n",
            "108/108 [==============================] - 56s 523ms/step - loss: 0.0805 - accuracy: 0.9723 - val_loss: 0.3558 - val_accuracy: 0.9160\n",
            "Epoch 25/25\n",
            "108/108 [==============================] - 57s 526ms/step - loss: 0.0806 - accuracy: 0.9720 - val_loss: 0.8130 - val_accuracy: 0.8920\n"
          ],
          "name": "stdout"
        }
      ]
    },
    {
      "cell_type": "code",
      "metadata": {
        "id": "AVK66oDxxcaj",
        "colab_type": "code",
        "colab": {}
      },
      "source": [
        "H.history['loss'].extend(H1.history['loss'])\n",
        "H.history['accuracy'].extend(H1.history['accuracy'])\n",
        "H.history['val_loss'].extend(H1.history['val_loss'])\n",
        "H.history['val_accuracy'].extend(H1.history['val_accuracy'])"
      ],
      "execution_count": null,
      "outputs": []
    },
    {
      "cell_type": "code",
      "metadata": {
        "id": "Vh8RsR0IxeVE",
        "colab_type": "code",
        "colab": {
          "base_uri": "https://localhost:8080/",
          "height": 356
        },
        "outputId": "48585479-9c15-4930-88ec-311d7e17dfea"
      },
      "source": [
        "import matplotlib.pyplot as plt\n",
        "\n",
        "fig, (ax1, ax2) = plt.subplots(1,2,figsize=(15,5))\n",
        "fig.suptitle(\"Performance of Model\")\n",
        "ax1.plot(H.history['accuracy'])\n",
        "ax1.plot(H.history['val_accuracy'])\n",
        "vline_cut = np.where(H.history['val_accuracy'] == np.max(H.history['val_accuracy']))[0][0]\n",
        "ax1.set_title(\"Model Accuracy\")\n",
        "ax1.legend(['train', 'val'])\n",
        "\n",
        "ax2.plot(H.history['loss'])\n",
        "ax2.plot(H.history['val_loss'])\n",
        "vline_cut = np.where(H.history['val_loss'] == np.min(H.history['val_loss']))[0][0]\n",
        "ax2.set_title(\"Model Loss\")\n",
        "ax2.legend(['train', 'val'])\n",
        "plt.show()"
      ],
      "execution_count": null,
      "outputs": [
        {
          "output_type": "display_data",
          "data": {
            "image/png": "[encoded data removed]",
            "text/plain": [
              "<Figure size 1080x360 with 2 Axes>"
            ]
          },
          "metadata": {
            "tags": []
          }
        }
      ]
    },
    {
      "cell_type": "code",
      "metadata": {
        "id": "YNmfOq_ZhKeA",
        "colab_type": "code",
        "colab": {
          "base_uri": "https://localhost:8080/",
          "height": 319
        },
        "outputId": "072dd7c1-ee42-4123-c681-c8cd678b8127"
      },
      "source": [
        "y_pred = model.predict(X_test)\n",
        "rounded_labels=np.argmax(y_test, axis=1)\n",
        "rounded_pred=np.argmax(y_pred, axis=1)\n",
        "print(confusion_matrix(rounded_labels,rounded_pred),'\\n')\n",
        "print(classification_report(rounded_labels,rounded_pred))"
      ],
      "execution_count": null,
      "outputs": [
        {
          "output_type": "stream",
          "text": [
            "[[135   8   0   7   7]\n",
            " [ 16 183   0  10   3]\n",
            " [  6   3  81  10  56]\n",
            " [  2   3   0 130   4]\n",
            " [  3   1   6   9 182]] \n",
            "\n",
            "              precision    recall  f1-score   support\n",
            "\n",
            "           0       0.83      0.86      0.85       157\n",
            "           1       0.92      0.86      0.89       212\n",
            "           2       0.93      0.52      0.67       156\n",
            "           3       0.78      0.94      0.85       139\n",
            "           4       0.72      0.91      0.80       201\n",
            "\n",
            "    accuracy                           0.82       865\n",
            "   macro avg       0.84      0.82      0.81       865\n",
            "weighted avg       0.84      0.82      0.82       865\n",
            "\n"
          ],
          "name": "stdout"
        }
      ]
    },
    {
      "cell_type": "code",
      "metadata": {
        "id": "9XkLtViJ3kHy",
        "colab_type": "code",
        "colab": {
          "base_uri": "https://localhost:8080/",
          "height": 34
        },
        "outputId": "cb9f55ec-1f3f-45d8-eb0a-67e55e44d3a4"
      },
      "source": [
        "joblib.dump(model, '/content/drive/My Drive/Data/Fine_Tuning.pkl')"
      ],
      "execution_count": null,
      "outputs": [
        {
          "output_type": "execute_result",
          "data": {
            "text/plain": [
              "['/content/drive/My Drive/Data/Fine_Tuning.pkl']"
            ]
          },
          "metadata": {
            "tags": []
          },
          "execution_count": 30
        }
      ]
    }
  ]
}